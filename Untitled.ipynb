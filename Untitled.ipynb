{
 "cells": [
  {
   "cell_type": "code",
   "execution_count": 2,
   "id": "d84d2191",
   "metadata": {},
   "outputs": [],
   "source": [
    "# Computer progaramming is a skill\n",
    "# Space - time complexity to optimize data structure  \n",
    "#data strucutre = ways to store data the more the way the better the programming language "
   ]
  },
  {
   "cell_type": "code",
   "execution_count": 3,
   "id": "9c0fc449",
   "metadata": {},
   "outputs": [],
   "source": [
    "##types of DS that python provides - \n",
    "# list , Dictonary , Tuple ,List these are core DS\n",
    "# Some more DS - Numpy array , Pandas data frame , Tensors ,Pyspark,Sql table ,RDD\n",
    "# Instatiation = Creating mass copy of original working product so we create copy of list and use it\n",
    "\n",
    "\n"
   ]
  },
  {
   "cell_type": "code",
   "execution_count": 4,
   "id": "80747011",
   "metadata": {},
   "outputs": [],
   "source": [
    "#List DS - "
   ]
  },
  {
   "cell_type": "code",
   "execution_count": 14,
   "id": "deaf1985",
   "metadata": {},
   "outputs": [],
   "source": [
    "L =[15,65]"
   ]
  },
  {
   "cell_type": "code",
   "execution_count": 31,
   "id": "4f4d5d9e",
   "metadata": {},
   "outputs": [],
   "source": [
    "L.append(78)"
   ]
  },
  {
   "cell_type": "code",
   "execution_count": 29,
   "id": "7da1cb0f",
   "metadata": {},
   "outputs": [],
   "source": []
  },
  {
   "cell_type": "code",
   "execution_count": 32,
   "id": "f61cb769",
   "metadata": {},
   "outputs": [
    {
     "data": {
      "text/plain": [
       "[15, 65, 18, 18, 18, 18, 18, 18, 18, 18, 78]"
      ]
     },
     "execution_count": 32,
     "metadata": {},
     "output_type": "execute_result"
    }
   ],
   "source": [
    "L"
   ]
  },
  {
   "cell_type": "code",
   "execution_count": 34,
   "id": "ed9e15cc",
   "metadata": {},
   "outputs": [],
   "source": [
    "L.clear()"
   ]
  },
  {
   "cell_type": "code",
   "execution_count": 35,
   "id": "829f5094",
   "metadata": {},
   "outputs": [
    {
     "data": {
      "text/plain": [
       "[]"
      ]
     },
     "execution_count": 35,
     "metadata": {},
     "output_type": "execute_result"
    }
   ],
   "source": [
    "L\n"
   ]
  },
  {
   "cell_type": "code",
   "execution_count": null,
   "id": "994cdbba",
   "metadata": {},
   "outputs": [],
   "source": []
  }
 ],
 "metadata": {
  "kernelspec": {
   "display_name": "Python 3 (ipykernel)",
   "language": "python",
   "name": "python3"
  },
  "language_info": {
   "codemirror_mode": {
    "name": "ipython",
    "version": 3
   },
   "file_extension": ".py",
   "mimetype": "text/x-python",
   "name": "python",
   "nbconvert_exporter": "python",
   "pygments_lexer": "ipython3",
   "version": "3.9.13"
  }
 },
 "nbformat": 4,
 "nbformat_minor": 5
}
