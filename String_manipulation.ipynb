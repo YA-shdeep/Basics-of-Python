{
 "cells": [
  {
   "cell_type": "code",
   "execution_count": 3,
   "id": "b9d2229f",
   "metadata": {},
   "outputs": [
    {
     "name": "stdout",
     "output_type": "stream",
     "text": [
      "<class 'str'>\n"
     ]
    }
   ],
   "source": [
    "#Working with the String \n",
    "S = \"My name is Slim Shady\"\n",
    "print(type(S))"
   ]
  },
  {
   "cell_type": "code",
   "execution_count": 26,
   "id": "c5cdfb8a",
   "metadata": {},
   "outputs": [
    {
     "name": "stdout",
     "output_type": "stream",
     "text": [
      "The length of the string is : 85\n",
      "What do you want to replace? A\n",
      "With what? D\n",
      "Modified sequence: DGTCTCGDCGCGTGCTCGDTGDCGDTGDGTCGDTCDCDGCDTTDCTGCTGCDGCDTCGCGDTCGCGDTCGTCGCGDTCGCGCGDT\n"
     ]
    }
   ],
   "source": [
    "#String manupilation\n",
    "Sequence = \"AGTCTCGACGCGTGCTCGATGACGATGAGTCGATCACAGCATTACTGCTGCAGCATCGCGATCGCGATCGTCGCGATCGCGCGAT\"\n",
    "\n",
    "length = len(Sequence)\n",
    "print(\"The length of the string is :\",length)\n",
    "\n",
    "old = input(\"What do you want to replace? \")\n",
    "new = input(\"With what? \")\n",
    "\n",
    "Sequence = Sequence.replace(old, new)\n",
    "\n",
    "print(\"Modified sequence:\", Sequence)\n"
   ]
  },
  {
   "cell_type": "code",
   "execution_count": 24,
   "id": "1bc3b1c4",
   "metadata": {},
   "outputs": [
    {
     "name": "stdout",
     "output_type": "stream",
     "text": [
      "The length of the string is: 85\n",
      "Modified sequence: AACCCCAACACACACCCAACAACAACAAACCAACCACAACACCACCACCACAACACCACAACCACAACCACCACAACCACACAAC\n"
     ]
    }
   ],
   "source": [
    "#finding complementery \n",
    "# Define the sequence\n",
    "Sequence = \"AGTCTCGACGCGTGCTCGATGACGATGAGTCGATCACAGCATTACTGCTGCAGCATCGCGATCGCGATCGTCGCGATCGCGCGAT\"\n",
    "length = len(Sequence)\n",
    "print(\"The length of the string is:\", length)\n",
    "\n",
    "Old = \"A\" \n",
    "New = \"G\"\n",
    "Sequence = Sequence.replace(Old, New)\n",
    "\n",
    "Old2 = \"G\"\n",
    "New2 = \"A\"\n",
    "Sequence = Sequence.replace(Old2, New2)\n",
    "\n",
    "Old3 = \"C\" \n",
    "New3 = \"T\"\n",
    "Sequence = Sequence.replace(Old3, New3)\n",
    "\n",
    "Old4 = \"T\" \n",
    "New4 = \"C\"\n",
    "Sequence = Sequence.replace(Old4, New4)\n",
    "\n",
    "print(\"Modified sequence:\", Sequence)\n"
   ]
  },
  {
   "cell_type": "code",
   "execution_count": 25,
   "id": "1b390037",
   "metadata": {},
   "outputs": [
    {
     "name": "stdout",
     "output_type": "stream",
     "text": [
      "Complementary sequence: TCAGAGCTGCGCACGAGCTACTGCTACTCAGCTAGTGTCGTAATGACGACGTCGTAGCGCTAGCGCTAGCAGCGCTAGCGCGCTA\n"
     ]
    }
   ],
   "source": [
    "#Complmentary sequence \n",
    "Sequence = \"AGTCTCGACGCGTGCTCGATGACGATGAGTCGATCACAGCATTACTGCTGCAGCATCGCGATCGCGATCGTCGCGATCGCGCGAT\"\n",
    "\n",
    "complement = {\n",
    "    \"A\": \"T\",\n",
    "    \"T\": \"A\",\n",
    "    \"C\": \"G\",\n",
    "    \"G\": \"C\"\n",
    "}\n",
    "\n",
    "complementary_sequence = ''.join(complement[base] for base in Sequence)\n",
    "\n",
    "print(\"Complementary sequence:\", complementary_sequence)\n"
   ]
  },
  {
   "cell_type": "code",
   "execution_count": null,
   "id": "3d0d52da",
   "metadata": {},
   "outputs": [],
   "source": []
  }
 ],
 "metadata": {
  "kernelspec": {
   "display_name": "Python 3 (ipykernel)",
   "language": "python",
   "name": "python3"
  },
  "language_info": {
   "codemirror_mode": {
    "name": "ipython",
    "version": 3
   },
   "file_extension": ".py",
   "mimetype": "text/x-python",
   "name": "python",
   "nbconvert_exporter": "python",
   "pygments_lexer": "ipython3",
   "version": "3.11.3"
  }
 },
 "nbformat": 4,
 "nbformat_minor": 5
}
